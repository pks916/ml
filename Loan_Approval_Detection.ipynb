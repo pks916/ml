{
  "cells": [
    {
      "cell_type": "markdown",
      "metadata": {
        "id": "view-in-github",
        "colab_type": "text"
      },
      "source": [
        "<a href=\"https://colab.research.google.com/github/pks916/ml/blob/main/Loan_Approval_Detection.ipynb\" target=\"_parent\"><img src=\"https://colab.research.google.com/assets/colab-badge.svg\" alt=\"Open In Colab\"/></a>"
      ]
    },
    {
      "cell_type": "code",
      "execution_count": null,
      "id": "3d13af6f",
      "metadata": {
        "id": "3d13af6f"
      },
      "outputs": [],
      "source": [
        "import pandas as pd\n",
        "import matplotlib.pyplot as plt\n",
        "import seaborn as sns\n",
        "import numpy as np\n",
        "sns.set_theme(color_codes=True)\n",
        "pd.set_option('display.max_columns', None)"
      ]
    },
    {
      "cell_type": "code",
      "execution_count": null,
      "id": "4c783449",
      "metadata": {
        "id": "4c783449",
        "outputId": "d50e3ea5-42d9-494c-8a06-3f27d5a1d5f4"
      },
      "outputs": [
        {
          "name": "stderr",
          "output_type": "stream",
          "text": [
            "C:\\Users\\Michael\\AppData\\Local\\Temp\\ipykernel_29440\\3498453600.py:1: DtypeWarning: Columns (9) have mixed types. Specify dtype option on import or set low_memory=False.\n",
            "  df = pd.read_csv('SBAnational.csv')\n"
          ]
        },
        {
          "data": {
            "text/html": [
              "<div>\n",
              "<style scoped>\n",
              "    .dataframe tbody tr th:only-of-type {\n",
              "        vertical-align: middle;\n",
              "    }\n",
              "\n",
              "    .dataframe tbody tr th {\n",
              "        vertical-align: top;\n",
              "    }\n",
              "\n",
              "    .dataframe thead th {\n",
              "        text-align: right;\n",
              "    }\n",
              "</style>\n",
              "<table border=\"1\" class=\"dataframe\">\n",
              "  <thead>\n",
              "    <tr style=\"text-align: right;\">\n",
              "      <th></th>\n",
              "      <th>LoanNr_ChkDgt</th>\n",
              "      <th>Name</th>\n",
              "      <th>City</th>\n",
              "      <th>State</th>\n",
              "      <th>Zip</th>\n",
              "      <th>Bank</th>\n",
              "      <th>BankState</th>\n",
              "      <th>NAICS</th>\n",
              "      <th>ApprovalDate</th>\n",
              "      <th>ApprovalFY</th>\n",
              "      <th>Term</th>\n",
              "      <th>NoEmp</th>\n",
              "      <th>NewExist</th>\n",
              "      <th>CreateJob</th>\n",
              "      <th>RetainedJob</th>\n",
              "      <th>FranchiseCode</th>\n",
              "      <th>UrbanRural</th>\n",
              "      <th>RevLineCr</th>\n",
              "      <th>LowDoc</th>\n",
              "      <th>ChgOffDate</th>\n",
              "      <th>DisbursementDate</th>\n",
              "      <th>DisbursementGross</th>\n",
              "      <th>BalanceGross</th>\n",
              "      <th>MIS_Status</th>\n",
              "      <th>ChgOffPrinGr</th>\n",
              "      <th>GrAppv</th>\n",
              "      <th>SBA_Appv</th>\n",
              "    </tr>\n",
              "  </thead>\n",
              "  <tbody>\n",
              "    <tr>\n",
              "      <th>0</th>\n",
              "      <td>1000014003</td>\n",
              "      <td>ABC HOBBYCRAFT</td>\n",
              "      <td>EVANSVILLE</td>\n",
              "      <td>IN</td>\n",
              "      <td>47711</td>\n",
              "      <td>FIFTH THIRD BANK</td>\n",
              "      <td>OH</td>\n",
              "      <td>451120</td>\n",
              "      <td>28-Feb-97</td>\n",
              "      <td>1997</td>\n",
              "      <td>84</td>\n",
              "      <td>4</td>\n",
              "      <td>2.0</td>\n",
              "      <td>0</td>\n",
              "      <td>0</td>\n",
              "      <td>1</td>\n",
              "      <td>0</td>\n",
              "      <td>N</td>\n",
              "      <td>Y</td>\n",
              "      <td>NaN</td>\n",
              "      <td>28-Feb-99</td>\n",
              "      <td>$60,000.00</td>\n",
              "      <td>$0.00</td>\n",
              "      <td>P I F</td>\n",
              "      <td>$0.00</td>\n",
              "      <td>$60,000.00</td>\n",
              "      <td>$48,000.00</td>\n",
              "    </tr>\n",
              "    <tr>\n",
              "      <th>1</th>\n",
              "      <td>1000024006</td>\n",
              "      <td>LANDMARK BAR &amp; GRILLE (THE)</td>\n",
              "      <td>NEW PARIS</td>\n",
              "      <td>IN</td>\n",
              "      <td>46526</td>\n",
              "      <td>1ST SOURCE BANK</td>\n",
              "      <td>IN</td>\n",
              "      <td>722410</td>\n",
              "      <td>28-Feb-97</td>\n",
              "      <td>1997</td>\n",
              "      <td>60</td>\n",
              "      <td>2</td>\n",
              "      <td>2.0</td>\n",
              "      <td>0</td>\n",
              "      <td>0</td>\n",
              "      <td>1</td>\n",
              "      <td>0</td>\n",
              "      <td>N</td>\n",
              "      <td>Y</td>\n",
              "      <td>NaN</td>\n",
              "      <td>31-May-97</td>\n",
              "      <td>$40,000.00</td>\n",
              "      <td>$0.00</td>\n",
              "      <td>P I F</td>\n",
              "      <td>$0.00</td>\n",
              "      <td>$40,000.00</td>\n",
              "      <td>$32,000.00</td>\n",
              "    </tr>\n",
              "    <tr>\n",
              "      <th>2</th>\n",
              "      <td>1000034009</td>\n",
              "      <td>WHITLOCK DDS, TODD M.</td>\n",
              "      <td>BLOOMINGTON</td>\n",
              "      <td>IN</td>\n",
              "      <td>47401</td>\n",
              "      <td>GRANT COUNTY STATE BANK</td>\n",
              "      <td>IN</td>\n",
              "      <td>621210</td>\n",
              "      <td>28-Feb-97</td>\n",
              "      <td>1997</td>\n",
              "      <td>180</td>\n",
              "      <td>7</td>\n",
              "      <td>1.0</td>\n",
              "      <td>0</td>\n",
              "      <td>0</td>\n",
              "      <td>1</td>\n",
              "      <td>0</td>\n",
              "      <td>N</td>\n",
              "      <td>N</td>\n",
              "      <td>NaN</td>\n",
              "      <td>31-Dec-97</td>\n",
              "      <td>$287,000.00</td>\n",
              "      <td>$0.00</td>\n",
              "      <td>P I F</td>\n",
              "      <td>$0.00</td>\n",
              "      <td>$287,000.00</td>\n",
              "      <td>$215,250.00</td>\n",
              "    </tr>\n",
              "    <tr>\n",
              "      <th>3</th>\n",
              "      <td>1000044001</td>\n",
              "      <td>BIG BUCKS PAWN &amp; JEWELRY, LLC</td>\n",
              "      <td>BROKEN ARROW</td>\n",
              "      <td>OK</td>\n",
              "      <td>74012</td>\n",
              "      <td>1ST NATL BK &amp; TR CO OF BROKEN</td>\n",
              "      <td>OK</td>\n",
              "      <td>0</td>\n",
              "      <td>28-Feb-97</td>\n",
              "      <td>1997</td>\n",
              "      <td>60</td>\n",
              "      <td>2</td>\n",
              "      <td>1.0</td>\n",
              "      <td>0</td>\n",
              "      <td>0</td>\n",
              "      <td>1</td>\n",
              "      <td>0</td>\n",
              "      <td>N</td>\n",
              "      <td>Y</td>\n",
              "      <td>NaN</td>\n",
              "      <td>30-Jun-97</td>\n",
              "      <td>$35,000.00</td>\n",
              "      <td>$0.00</td>\n",
              "      <td>P I F</td>\n",
              "      <td>$0.00</td>\n",
              "      <td>$35,000.00</td>\n",
              "      <td>$28,000.00</td>\n",
              "    </tr>\n",
              "    <tr>\n",
              "      <th>4</th>\n",
              "      <td>1000054004</td>\n",
              "      <td>ANASTASIA CONFECTIONS, INC.</td>\n",
              "      <td>ORLANDO</td>\n",
              "      <td>FL</td>\n",
              "      <td>32801</td>\n",
              "      <td>FLORIDA BUS. DEVEL CORP</td>\n",
              "      <td>FL</td>\n",
              "      <td>0</td>\n",
              "      <td>28-Feb-97</td>\n",
              "      <td>1997</td>\n",
              "      <td>240</td>\n",
              "      <td>14</td>\n",
              "      <td>1.0</td>\n",
              "      <td>7</td>\n",
              "      <td>7</td>\n",
              "      <td>1</td>\n",
              "      <td>0</td>\n",
              "      <td>N</td>\n",
              "      <td>N</td>\n",
              "      <td>NaN</td>\n",
              "      <td>14-May-97</td>\n",
              "      <td>$229,000.00</td>\n",
              "      <td>$0.00</td>\n",
              "      <td>P I F</td>\n",
              "      <td>$0.00</td>\n",
              "      <td>$229,000.00</td>\n",
              "      <td>$229,000.00</td>\n",
              "    </tr>\n",
              "    <tr>\n",
              "      <th>...</th>\n",
              "      <td>...</td>\n",
              "      <td>...</td>\n",
              "      <td>...</td>\n",
              "      <td>...</td>\n",
              "      <td>...</td>\n",
              "      <td>...</td>\n",
              "      <td>...</td>\n",
              "      <td>...</td>\n",
              "      <td>...</td>\n",
              "      <td>...</td>\n",
              "      <td>...</td>\n",
              "      <td>...</td>\n",
              "      <td>...</td>\n",
              "      <td>...</td>\n",
              "      <td>...</td>\n",
              "      <td>...</td>\n",
              "      <td>...</td>\n",
              "      <td>...</td>\n",
              "      <td>...</td>\n",
              "      <td>...</td>\n",
              "      <td>...</td>\n",
              "      <td>...</td>\n",
              "      <td>...</td>\n",
              "      <td>...</td>\n",
              "      <td>...</td>\n",
              "      <td>...</td>\n",
              "      <td>...</td>\n",
              "    </tr>\n",
              "    <tr>\n",
              "      <th>899159</th>\n",
              "      <td>9995573004</td>\n",
              "      <td>FABRIC FARMS</td>\n",
              "      <td>UPPER ARLINGTON</td>\n",
              "      <td>OH</td>\n",
              "      <td>43221</td>\n",
              "      <td>JPMORGAN CHASE BANK NATL ASSOC</td>\n",
              "      <td>IL</td>\n",
              "      <td>451120</td>\n",
              "      <td>27-Feb-97</td>\n",
              "      <td>1997</td>\n",
              "      <td>60</td>\n",
              "      <td>6</td>\n",
              "      <td>1.0</td>\n",
              "      <td>0</td>\n",
              "      <td>0</td>\n",
              "      <td>1</td>\n",
              "      <td>0</td>\n",
              "      <td>0</td>\n",
              "      <td>N</td>\n",
              "      <td>NaN</td>\n",
              "      <td>30-Sep-97</td>\n",
              "      <td>$70,000.00</td>\n",
              "      <td>$0.00</td>\n",
              "      <td>P I F</td>\n",
              "      <td>$0.00</td>\n",
              "      <td>$70,000.00</td>\n",
              "      <td>$56,000.00</td>\n",
              "    </tr>\n",
              "    <tr>\n",
              "      <th>899160</th>\n",
              "      <td>9995603000</td>\n",
              "      <td>FABRIC FARMS</td>\n",
              "      <td>COLUMBUS</td>\n",
              "      <td>OH</td>\n",
              "      <td>43221</td>\n",
              "      <td>JPMORGAN CHASE BANK NATL ASSOC</td>\n",
              "      <td>IL</td>\n",
              "      <td>451130</td>\n",
              "      <td>27-Feb-97</td>\n",
              "      <td>1997</td>\n",
              "      <td>60</td>\n",
              "      <td>6</td>\n",
              "      <td>1.0</td>\n",
              "      <td>0</td>\n",
              "      <td>0</td>\n",
              "      <td>1</td>\n",
              "      <td>0</td>\n",
              "      <td>Y</td>\n",
              "      <td>N</td>\n",
              "      <td>NaN</td>\n",
              "      <td>31-Oct-97</td>\n",
              "      <td>$85,000.00</td>\n",
              "      <td>$0.00</td>\n",
              "      <td>P I F</td>\n",
              "      <td>$0.00</td>\n",
              "      <td>$85,000.00</td>\n",
              "      <td>$42,500.00</td>\n",
              "    </tr>\n",
              "    <tr>\n",
              "      <th>899161</th>\n",
              "      <td>9995613003</td>\n",
              "      <td>RADCO MANUFACTURING CO.,INC.</td>\n",
              "      <td>SANTA MARIA</td>\n",
              "      <td>CA</td>\n",
              "      <td>93455</td>\n",
              "      <td>RABOBANK, NATIONAL ASSOCIATION</td>\n",
              "      <td>CA</td>\n",
              "      <td>332321</td>\n",
              "      <td>27-Feb-97</td>\n",
              "      <td>1997</td>\n",
              "      <td>108</td>\n",
              "      <td>26</td>\n",
              "      <td>1.0</td>\n",
              "      <td>0</td>\n",
              "      <td>0</td>\n",
              "      <td>1</td>\n",
              "      <td>0</td>\n",
              "      <td>N</td>\n",
              "      <td>N</td>\n",
              "      <td>NaN</td>\n",
              "      <td>30-Sep-97</td>\n",
              "      <td>$300,000.00</td>\n",
              "      <td>$0.00</td>\n",
              "      <td>P I F</td>\n",
              "      <td>$0.00</td>\n",
              "      <td>$300,000.00</td>\n",
              "      <td>$225,000.00</td>\n",
              "    </tr>\n",
              "    <tr>\n",
              "      <th>899162</th>\n",
              "      <td>9995973006</td>\n",
              "      <td>MARUTAMA HAWAII, INC.</td>\n",
              "      <td>HONOLULU</td>\n",
              "      <td>HI</td>\n",
              "      <td>96830</td>\n",
              "      <td>BANK OF HAWAII</td>\n",
              "      <td>HI</td>\n",
              "      <td>0</td>\n",
              "      <td>27-Feb-97</td>\n",
              "      <td>1997</td>\n",
              "      <td>60</td>\n",
              "      <td>6</td>\n",
              "      <td>1.0</td>\n",
              "      <td>0</td>\n",
              "      <td>0</td>\n",
              "      <td>1</td>\n",
              "      <td>0</td>\n",
              "      <td>N</td>\n",
              "      <td>Y</td>\n",
              "      <td>8-Mar-00</td>\n",
              "      <td>31-Mar-97</td>\n",
              "      <td>$75,000.00</td>\n",
              "      <td>$0.00</td>\n",
              "      <td>CHGOFF</td>\n",
              "      <td>$46,383.00</td>\n",
              "      <td>$75,000.00</td>\n",
              "      <td>$60,000.00</td>\n",
              "    </tr>\n",
              "    <tr>\n",
              "      <th>899163</th>\n",
              "      <td>9996003010</td>\n",
              "      <td>PACIFIC TRADEWINDS FAN &amp; LIGHT</td>\n",
              "      <td>KAILUA</td>\n",
              "      <td>HI</td>\n",
              "      <td>96734</td>\n",
              "      <td>CENTRAL PACIFIC BANK</td>\n",
              "      <td>HI</td>\n",
              "      <td>0</td>\n",
              "      <td>27-Feb-97</td>\n",
              "      <td>1997</td>\n",
              "      <td>48</td>\n",
              "      <td>1</td>\n",
              "      <td>2.0</td>\n",
              "      <td>0</td>\n",
              "      <td>0</td>\n",
              "      <td>1</td>\n",
              "      <td>0</td>\n",
              "      <td>N</td>\n",
              "      <td>N</td>\n",
              "      <td>NaN</td>\n",
              "      <td>31-May-97</td>\n",
              "      <td>$30,000.00</td>\n",
              "      <td>$0.00</td>\n",
              "      <td>P I F</td>\n",
              "      <td>$0.00</td>\n",
              "      <td>$30,000.00</td>\n",
              "      <td>$24,000.00</td>\n",
              "    </tr>\n",
              "  </tbody>\n",
              "</table>\n",
              "<p>899164 rows × 27 columns</p>\n",
              "</div>"
            ],
            "text/plain": [
              "        LoanNr_ChkDgt                            Name             City State  \\\n",
              "0          1000014003                  ABC HOBBYCRAFT       EVANSVILLE    IN   \n",
              "1          1000024006     LANDMARK BAR & GRILLE (THE)        NEW PARIS    IN   \n",
              "2          1000034009           WHITLOCK DDS, TODD M.      BLOOMINGTON    IN   \n",
              "3          1000044001   BIG BUCKS PAWN & JEWELRY, LLC     BROKEN ARROW    OK   \n",
              "4          1000054004     ANASTASIA CONFECTIONS, INC.          ORLANDO    FL   \n",
              "...               ...                             ...              ...   ...   \n",
              "899159     9995573004                    FABRIC FARMS  UPPER ARLINGTON    OH   \n",
              "899160     9995603000                    FABRIC FARMS         COLUMBUS    OH   \n",
              "899161     9995613003    RADCO MANUFACTURING CO.,INC.      SANTA MARIA    CA   \n",
              "899162     9995973006           MARUTAMA HAWAII, INC.         HONOLULU    HI   \n",
              "899163     9996003010  PACIFIC TRADEWINDS FAN & LIGHT           KAILUA    HI   \n",
              "\n",
              "          Zip                            Bank BankState   NAICS ApprovalDate  \\\n",
              "0       47711                FIFTH THIRD BANK        OH  451120    28-Feb-97   \n",
              "1       46526                 1ST SOURCE BANK        IN  722410    28-Feb-97   \n",
              "2       47401         GRANT COUNTY STATE BANK        IN  621210    28-Feb-97   \n",
              "3       74012   1ST NATL BK & TR CO OF BROKEN        OK       0    28-Feb-97   \n",
              "4       32801         FLORIDA BUS. DEVEL CORP        FL       0    28-Feb-97   \n",
              "...       ...                             ...       ...     ...          ...   \n",
              "899159  43221  JPMORGAN CHASE BANK NATL ASSOC        IL  451120    27-Feb-97   \n",
              "899160  43221  JPMORGAN CHASE BANK NATL ASSOC        IL  451130    27-Feb-97   \n",
              "899161  93455  RABOBANK, NATIONAL ASSOCIATION        CA  332321    27-Feb-97   \n",
              "899162  96830                  BANK OF HAWAII        HI       0    27-Feb-97   \n",
              "899163  96734            CENTRAL PACIFIC BANK        HI       0    27-Feb-97   \n",
              "\n",
              "       ApprovalFY  Term  NoEmp  NewExist  CreateJob  RetainedJob  \\\n",
              "0            1997    84      4       2.0          0            0   \n",
              "1            1997    60      2       2.0          0            0   \n",
              "2            1997   180      7       1.0          0            0   \n",
              "3            1997    60      2       1.0          0            0   \n",
              "4            1997   240     14       1.0          7            7   \n",
              "...           ...   ...    ...       ...        ...          ...   \n",
              "899159       1997    60      6       1.0          0            0   \n",
              "899160       1997    60      6       1.0          0            0   \n",
              "899161       1997   108     26       1.0          0            0   \n",
              "899162       1997    60      6       1.0          0            0   \n",
              "899163       1997    48      1       2.0          0            0   \n",
              "\n",
              "        FranchiseCode  UrbanRural RevLineCr LowDoc ChgOffDate  \\\n",
              "0                   1           0         N      Y        NaN   \n",
              "1                   1           0         N      Y        NaN   \n",
              "2                   1           0         N      N        NaN   \n",
              "3                   1           0         N      Y        NaN   \n",
              "4                   1           0         N      N        NaN   \n",
              "...               ...         ...       ...    ...        ...   \n",
              "899159              1           0         0      N        NaN   \n",
              "899160              1           0         Y      N        NaN   \n",
              "899161              1           0         N      N        NaN   \n",
              "899162              1           0         N      Y   8-Mar-00   \n",
              "899163              1           0         N      N        NaN   \n",
              "\n",
              "       DisbursementDate DisbursementGross BalanceGross MIS_Status  \\\n",
              "0             28-Feb-99       $60,000.00        $0.00       P I F   \n",
              "1             31-May-97       $40,000.00        $0.00       P I F   \n",
              "2             31-Dec-97      $287,000.00        $0.00       P I F   \n",
              "3             30-Jun-97       $35,000.00        $0.00       P I F   \n",
              "4             14-May-97      $229,000.00        $0.00       P I F   \n",
              "...                 ...               ...          ...        ...   \n",
              "899159        30-Sep-97       $70,000.00        $0.00       P I F   \n",
              "899160        31-Oct-97       $85,000.00        $0.00       P I F   \n",
              "899161        30-Sep-97      $300,000.00        $0.00       P I F   \n",
              "899162        31-Mar-97       $75,000.00        $0.00      CHGOFF   \n",
              "899163        31-May-97       $30,000.00        $0.00       P I F   \n",
              "\n",
              "       ChgOffPrinGr        GrAppv      SBA_Appv  \n",
              "0            $0.00    $60,000.00    $48,000.00   \n",
              "1            $0.00    $40,000.00    $32,000.00   \n",
              "2            $0.00   $287,000.00   $215,250.00   \n",
              "3            $0.00    $35,000.00    $28,000.00   \n",
              "4            $0.00   $229,000.00   $229,000.00   \n",
              "...             ...           ...           ...  \n",
              "899159       $0.00    $70,000.00    $56,000.00   \n",
              "899160       $0.00    $85,000.00    $42,500.00   \n",
              "899161       $0.00   $300,000.00   $225,000.00   \n",
              "899162  $46,383.00    $75,000.00    $60,000.00   \n",
              "899163       $0.00    $30,000.00    $24,000.00   \n",
              "\n",
              "[899164 rows x 27 columns]"
            ]
          },
          "execution_count": 38,
          "metadata": {},
          "output_type": "execute_result"
        }
      ],
      "source": [
        "df = pd.read_csv('SBAnational.csv')\n",
        "df"
      ]
    },
    {
      "cell_type": "markdown",
      "id": "fe9a76d9",
      "metadata": {
        "id": "fe9a76d9"
      },
      "source": [
        "# Data Preprocessing and Cleansing"
      ]
    },
    {
      "cell_type": "code",
      "execution_count": null,
      "id": "b5d5e133",
      "metadata": {
        "id": "b5d5e133",
        "outputId": "2e0aa409-90d2-4abc-9613-dff0681decf9"
      },
      "outputs": [
        {
          "data": {
            "text/plain": [
              "LoanNr_ChkDgt          int64\n",
              "Name                  object\n",
              "City                  object\n",
              "State                 object\n",
              "Zip                    int64\n",
              "Bank                  object\n",
              "BankState             object\n",
              "NAICS                  int64\n",
              "ApprovalDate          object\n",
              "ApprovalFY            object\n",
              "Term                   int64\n",
              "NoEmp                  int64\n",
              "NewExist             float64\n",
              "CreateJob              int64\n",
              "RetainedJob            int64\n",
              "FranchiseCode          int64\n",
              "UrbanRural             int64\n",
              "RevLineCr             object\n",
              "LowDoc                object\n",
              "ChgOffDate            object\n",
              "DisbursementDate      object\n",
              "DisbursementGross     object\n",
              "BalanceGross          object\n",
              "MIS_Status            object\n",
              "ChgOffPrinGr          object\n",
              "GrAppv                object\n",
              "SBA_Appv              object\n",
              "dtype: object"
            ]
          },
          "execution_count": 39,
          "metadata": {},
          "output_type": "execute_result"
        }
      ],
      "source": [
        "df.dtypes"
      ]
    },
    {
      "cell_type": "code",
      "execution_count": null,
      "id": "5a1eb714",
      "metadata": {
        "id": "5a1eb714",
        "outputId": "1fd1e461-bd1d-4841-c8f5-177d247c2dc9"
      },
      "outputs": [
        {
          "data": {
            "text/plain": [
              "ChgOffDate          81.905526\n",
              "RevLineCr            0.503579\n",
              "LowDoc               0.287156\n",
              "DisbursementDate     0.263356\n",
              "MIS_Status           0.222095\n",
              "BankState            0.174162\n",
              "Bank                 0.173383\n",
              "NewExist             0.015125\n",
              "City                 0.003336\n",
              "Name                 0.001557\n",
              "State                0.001557\n",
              "dtype: float64"
            ]
          },
          "execution_count": 40,
          "metadata": {},
          "output_type": "execute_result"
        }
      ],
      "source": [
        "check_missing = df.isnull().sum() * 100 / df.shape[0]\n",
        "check_missing[check_missing > 0].sort_values(ascending=False)"
      ]
    },
    {
      "cell_type": "code",
      "execution_count": null,
      "id": "2c3bf466",
      "metadata": {
        "id": "2c3bf466",
        "outputId": "e5a437e4-297f-433f-aaec-c0d7a486151d"
      },
      "outputs": [
        {
          "data": {
            "text/plain": [
              "(899164, 26)"
            ]
          },
          "execution_count": 41,
          "metadata": {},
          "output_type": "execute_result"
        }
      ],
      "source": [
        "df.drop(columns = 'ChgOffDate', inplace = True)\n",
        "df.shape"
      ]
    },
    {
      "cell_type": "markdown",
      "id": "2457e601",
      "metadata": {
        "id": "2457e601"
      },
      "source": [
        "# Drop Unnecesary attributes"
      ]
    },
    {
      "cell_type": "code",
      "execution_count": null,
      "id": "3a72056f",
      "metadata": {
        "id": "3a72056f",
        "outputId": "24a1a6f9-272e-4029-a59d-f3ad0711bdb6"
      },
      "outputs": [
        {
          "data": {
            "text/plain": [
              "LoanNr_ChkDgt        899164\n",
              "Name                 779583\n",
              "City                  32581\n",
              "State                    51\n",
              "Zip                   33611\n",
              "Bank                   5802\n",
              "BankState                56\n",
              "NAICS                  1312\n",
              "ApprovalDate           9859\n",
              "ApprovalFY               70\n",
              "Term                    412\n",
              "NoEmp                   599\n",
              "NewExist                  3\n",
              "CreateJob               246\n",
              "RetainedJob             358\n",
              "FranchiseCode          2768\n",
              "UrbanRural                3\n",
              "RevLineCr                18\n",
              "LowDoc                    8\n",
              "DisbursementDate       8472\n",
              "DisbursementGross    118859\n",
              "BalanceGross             15\n",
              "MIS_Status                2\n",
              "ChgOffPrinGr          83165\n",
              "GrAppv                22128\n",
              "SBA_Appv              38326\n",
              "dtype: int64"
            ]
          },
          "execution_count": 42,
          "metadata": {},
          "output_type": "execute_result"
        }
      ],
      "source": [
        "df.nunique()"
      ]
    },
    {
      "cell_type": "code",
      "execution_count": null,
      "id": "87f9342b",
      "metadata": {
        "id": "87f9342b"
      },
      "outputs": [],
      "source": [
        "cols_to_drop = [\n",
        "    'LoanNr_ChkDgt',\n",
        "    'Name',\n",
        "    'City',\n",
        "    'State',\n",
        "    'Zip',\n",
        "    'Bank',\n",
        "    'BankState',\n",
        "    'NAICS',\n",
        "    'ApprovalDate',\n",
        "    'DisbursementDate',\n",
        "    'RevLineCr',\n",
        "    'LowDoc'\n",
        "]"
      ]
    },
    {
      "cell_type": "code",
      "execution_count": null,
      "id": "bda48aa6",
      "metadata": {
        "id": "bda48aa6",
        "outputId": "2b6caac7-926b-4f2a-cc7b-018a1ead73e6"
      },
      "outputs": [
        {
          "data": {
            "text/plain": [
              "(899164, 14)"
            ]
          },
          "execution_count": 44,
          "metadata": {},
          "output_type": "execute_result"
        }
      ],
      "source": [
        "df.drop(columns = cols_to_drop, inplace = True)\n",
        "df.shape"
      ]
    },
    {
      "cell_type": "code",
      "execution_count": null,
      "id": "f3cd948a",
      "metadata": {
        "id": "f3cd948a",
        "outputId": "8727dc11-87a9-421b-9911-1adb889c8aaa"
      },
      "outputs": [
        {
          "data": {
            "text/html": [
              "<div>\n",
              "<style scoped>\n",
              "    .dataframe tbody tr th:only-of-type {\n",
              "        vertical-align: middle;\n",
              "    }\n",
              "\n",
              "    .dataframe tbody tr th {\n",
              "        vertical-align: top;\n",
              "    }\n",
              "\n",
              "    .dataframe thead th {\n",
              "        text-align: right;\n",
              "    }\n",
              "</style>\n",
              "<table border=\"1\" class=\"dataframe\">\n",
              "  <thead>\n",
              "    <tr style=\"text-align: right;\">\n",
              "      <th></th>\n",
              "      <th>ApprovalFY</th>\n",
              "      <th>Term</th>\n",
              "      <th>NoEmp</th>\n",
              "      <th>NewExist</th>\n",
              "      <th>CreateJob</th>\n",
              "      <th>RetainedJob</th>\n",
              "      <th>FranchiseCode</th>\n",
              "      <th>UrbanRural</th>\n",
              "      <th>DisbursementGross</th>\n",
              "      <th>BalanceGross</th>\n",
              "      <th>MIS_Status</th>\n",
              "      <th>ChgOffPrinGr</th>\n",
              "      <th>GrAppv</th>\n",
              "      <th>SBA_Appv</th>\n",
              "    </tr>\n",
              "  </thead>\n",
              "  <tbody>\n",
              "    <tr>\n",
              "      <th>0</th>\n",
              "      <td>1997</td>\n",
              "      <td>84</td>\n",
              "      <td>4</td>\n",
              "      <td>2.0</td>\n",
              "      <td>0</td>\n",
              "      <td>0</td>\n",
              "      <td>1</td>\n",
              "      <td>0</td>\n",
              "      <td>6000000</td>\n",
              "      <td>000</td>\n",
              "      <td>P I F</td>\n",
              "      <td>000</td>\n",
              "      <td>$60,000.00</td>\n",
              "      <td>4800000</td>\n",
              "    </tr>\n",
              "    <tr>\n",
              "      <th>1</th>\n",
              "      <td>1997</td>\n",
              "      <td>60</td>\n",
              "      <td>2</td>\n",
              "      <td>2.0</td>\n",
              "      <td>0</td>\n",
              "      <td>0</td>\n",
              "      <td>1</td>\n",
              "      <td>0</td>\n",
              "      <td>4000000</td>\n",
              "      <td>000</td>\n",
              "      <td>P I F</td>\n",
              "      <td>000</td>\n",
              "      <td>$40,000.00</td>\n",
              "      <td>3200000</td>\n",
              "    </tr>\n",
              "    <tr>\n",
              "      <th>2</th>\n",
              "      <td>1997</td>\n",
              "      <td>180</td>\n",
              "      <td>7</td>\n",
              "      <td>1.0</td>\n",
              "      <td>0</td>\n",
              "      <td>0</td>\n",
              "      <td>1</td>\n",
              "      <td>0</td>\n",
              "      <td>28700000</td>\n",
              "      <td>000</td>\n",
              "      <td>P I F</td>\n",
              "      <td>000</td>\n",
              "      <td>$287,000.00</td>\n",
              "      <td>21525000</td>\n",
              "    </tr>\n",
              "    <tr>\n",
              "      <th>3</th>\n",
              "      <td>1997</td>\n",
              "      <td>60</td>\n",
              "      <td>2</td>\n",
              "      <td>1.0</td>\n",
              "      <td>0</td>\n",
              "      <td>0</td>\n",
              "      <td>1</td>\n",
              "      <td>0</td>\n",
              "      <td>3500000</td>\n",
              "      <td>000</td>\n",
              "      <td>P I F</td>\n",
              "      <td>000</td>\n",
              "      <td>$35,000.00</td>\n",
              "      <td>2800000</td>\n",
              "    </tr>\n",
              "    <tr>\n",
              "      <th>4</th>\n",
              "      <td>1997</td>\n",
              "      <td>240</td>\n",
              "      <td>14</td>\n",
              "      <td>1.0</td>\n",
              "      <td>7</td>\n",
              "      <td>7</td>\n",
              "      <td>1</td>\n",
              "      <td>0</td>\n",
              "      <td>22900000</td>\n",
              "      <td>000</td>\n",
              "      <td>P I F</td>\n",
              "      <td>000</td>\n",
              "      <td>$229,000.00</td>\n",
              "      <td>22900000</td>\n",
              "    </tr>\n",
              "  </tbody>\n",
              "</table>\n",
              "</div>"
            ],
            "text/plain": [
              "  ApprovalFY  Term  NoEmp  NewExist  CreateJob  RetainedJob  FranchiseCode  \\\n",
              "0       1997    84      4       2.0          0            0              1   \n",
              "1       1997    60      2       2.0          0            0              1   \n",
              "2       1997   180      7       1.0          0            0              1   \n",
              "3       1997    60      2       1.0          0            0              1   \n",
              "4       1997   240     14       1.0          7            7              1   \n",
              "\n",
              "   UrbanRural DisbursementGross BalanceGross MIS_Status ChgOffPrinGr  \\\n",
              "0           0           6000000          000      P I F          000   \n",
              "1           0           4000000          000      P I F          000   \n",
              "2           0          28700000          000      P I F          000   \n",
              "3           0           3500000          000      P I F          000   \n",
              "4           0          22900000          000      P I F          000   \n",
              "\n",
              "         GrAppv  SBA_Appv  \n",
              "0   $60,000.00    4800000  \n",
              "1   $40,000.00    3200000  \n",
              "2  $287,000.00   21525000  \n",
              "3   $35,000.00    2800000  \n",
              "4  $229,000.00   22900000  "
            ]
          },
          "execution_count": 45,
          "metadata": {},
          "output_type": "execute_result"
        }
      ],
      "source": [
        "df['DisbursementGross'] = df['DisbursementGross'].str.replace('\\W', '', regex=True)\n",
        "df['BalanceGross'] = df['BalanceGross'].str.replace('\\W', '', regex=True)\n",
        "df['ChgOffPrinGr'] = df['ChgOffPrinGr'].str.replace('\\W', '', regex=True)\n",
        "df['SBA_Appv'] = df['SBA_Appv'].str.replace('\\W', '', regex=True)\n",
        "df.head()"
      ]
    },
    {
      "cell_type": "code",
      "execution_count": null,
      "id": "2f1379ca",
      "metadata": {
        "id": "2f1379ca",
        "outputId": "43dfedc5-1284-46f9-c592-f22128a853ad"
      },
      "outputs": [
        {
          "data": {
            "text/html": [
              "<div>\n",
              "<style scoped>\n",
              "    .dataframe tbody tr th:only-of-type {\n",
              "        vertical-align: middle;\n",
              "    }\n",
              "\n",
              "    .dataframe tbody tr th {\n",
              "        vertical-align: top;\n",
              "    }\n",
              "\n",
              "    .dataframe thead th {\n",
              "        text-align: right;\n",
              "    }\n",
              "</style>\n",
              "<table border=\"1\" class=\"dataframe\">\n",
              "  <thead>\n",
              "    <tr style=\"text-align: right;\">\n",
              "      <th></th>\n",
              "      <th>ApprovalFY</th>\n",
              "      <th>Term</th>\n",
              "      <th>NoEmp</th>\n",
              "      <th>NewExist</th>\n",
              "      <th>CreateJob</th>\n",
              "      <th>RetainedJob</th>\n",
              "      <th>FranchiseCode</th>\n",
              "      <th>UrbanRural</th>\n",
              "      <th>DisbursementGross</th>\n",
              "      <th>BalanceGross</th>\n",
              "      <th>MIS_Status</th>\n",
              "      <th>ChgOffPrinGr</th>\n",
              "      <th>GrAppv</th>\n",
              "      <th>SBA_Appv</th>\n",
              "    </tr>\n",
              "  </thead>\n",
              "  <tbody>\n",
              "    <tr>\n",
              "      <th>0</th>\n",
              "      <td>1997</td>\n",
              "      <td>84</td>\n",
              "      <td>4</td>\n",
              "      <td>2.0</td>\n",
              "      <td>0</td>\n",
              "      <td>0</td>\n",
              "      <td>1</td>\n",
              "      <td>0</td>\n",
              "      <td>6000000</td>\n",
              "      <td>000</td>\n",
              "      <td>P I F</td>\n",
              "      <td>000</td>\n",
              "      <td>6000000</td>\n",
              "      <td>4800000</td>\n",
              "    </tr>\n",
              "    <tr>\n",
              "      <th>1</th>\n",
              "      <td>1997</td>\n",
              "      <td>60</td>\n",
              "      <td>2</td>\n",
              "      <td>2.0</td>\n",
              "      <td>0</td>\n",
              "      <td>0</td>\n",
              "      <td>1</td>\n",
              "      <td>0</td>\n",
              "      <td>4000000</td>\n",
              "      <td>000</td>\n",
              "      <td>P I F</td>\n",
              "      <td>000</td>\n",
              "      <td>4000000</td>\n",
              "      <td>3200000</td>\n",
              "    </tr>\n",
              "    <tr>\n",
              "      <th>2</th>\n",
              "      <td>1997</td>\n",
              "      <td>180</td>\n",
              "      <td>7</td>\n",
              "      <td>1.0</td>\n",
              "      <td>0</td>\n",
              "      <td>0</td>\n",
              "      <td>1</td>\n",
              "      <td>0</td>\n",
              "      <td>28700000</td>\n",
              "      <td>000</td>\n",
              "      <td>P I F</td>\n",
              "      <td>000</td>\n",
              "      <td>28700000</td>\n",
              "      <td>21525000</td>\n",
              "    </tr>\n",
              "    <tr>\n",
              "      <th>3</th>\n",
              "      <td>1997</td>\n",
              "      <td>60</td>\n",
              "      <td>2</td>\n",
              "      <td>1.0</td>\n",
              "      <td>0</td>\n",
              "      <td>0</td>\n",
              "      <td>1</td>\n",
              "      <td>0</td>\n",
              "      <td>3500000</td>\n",
              "      <td>000</td>\n",
              "      <td>P I F</td>\n",
              "      <td>000</td>\n",
              "      <td>3500000</td>\n",
              "      <td>2800000</td>\n",
              "    </tr>\n",
              "    <tr>\n",
              "      <th>4</th>\n",
              "      <td>1997</td>\n",
              "      <td>240</td>\n",
              "      <td>14</td>\n",
              "      <td>1.0</td>\n",
              "      <td>7</td>\n",
              "      <td>7</td>\n",
              "      <td>1</td>\n",
              "      <td>0</td>\n",
              "      <td>22900000</td>\n",
              "      <td>000</td>\n",
              "      <td>P I F</td>\n",
              "      <td>000</td>\n",
              "      <td>22900000</td>\n",
              "      <td>22900000</td>\n",
              "    </tr>\n",
              "  </tbody>\n",
              "</table>\n",
              "</div>"
            ],
            "text/plain": [
              "  ApprovalFY  Term  NoEmp  NewExist  CreateJob  RetainedJob  FranchiseCode  \\\n",
              "0       1997    84      4       2.0          0            0              1   \n",
              "1       1997    60      2       2.0          0            0              1   \n",
              "2       1997   180      7       1.0          0            0              1   \n",
              "3       1997    60      2       1.0          0            0              1   \n",
              "4       1997   240     14       1.0          7            7              1   \n",
              "\n",
              "   UrbanRural DisbursementGross BalanceGross MIS_Status ChgOffPrinGr  \\\n",
              "0           0           6000000          000      P I F          000   \n",
              "1           0           4000000          000      P I F          000   \n",
              "2           0          28700000          000      P I F          000   \n",
              "3           0           3500000          000      P I F          000   \n",
              "4           0          22900000          000      P I F          000   \n",
              "\n",
              "     GrAppv  SBA_Appv  \n",
              "0   6000000   4800000  \n",
              "1   4000000   3200000  \n",
              "2  28700000  21525000  \n",
              "3   3500000   2800000  \n",
              "4  22900000  22900000  "
            ]
          },
          "execution_count": 46,
          "metadata": {},
          "output_type": "execute_result"
        }
      ],
      "source": [
        "df['GrAppv'] = df['GrAppv'].str.replace('\\W', '', regex=True)\n",
        "df.head()"
      ]
    },
    {
      "cell_type": "code",
      "execution_count": null,
      "id": "2defc1c9",
      "metadata": {
        "id": "2defc1c9",
        "outputId": "cc188630-dc56-4611-f813-2ecfdf2dae82"
      },
      "outputs": [
        {
          "data": {
            "text/plain": [
              "ApprovalFY            object\n",
              "Term                   int64\n",
              "NoEmp                  int64\n",
              "NewExist             float64\n",
              "CreateJob              int64\n",
              "RetainedJob            int64\n",
              "FranchiseCode          int64\n",
              "UrbanRural             int64\n",
              "DisbursementGross      int64\n",
              "BalanceGross           int64\n",
              "MIS_Status            object\n",
              "ChgOffPrinGr           int64\n",
              "GrAppv                 int64\n",
              "SBA_Appv               int64\n",
              "dtype: object"
            ]
          },
          "execution_count": 47,
          "metadata": {},
          "output_type": "execute_result"
        }
      ],
      "source": [
        "#convert object data types column to integer\n",
        "df['DisbursementGross'] = pd.to_numeric(df['DisbursementGross'])\n",
        "df['BalanceGross'] = pd.to_numeric(df['BalanceGross'])\n",
        "df['ChgOffPrinGr'] = pd.to_numeric(df['ChgOffPrinGr'])\n",
        "df['SBA_Appv'] = pd.to_numeric(df['SBA_Appv'])\n",
        "df['GrAppv'] = pd.to_numeric(df['GrAppv'])\n",
        "df.dtypes"
      ]
    },
    {
      "cell_type": "markdown",
      "id": "eb6aa594",
      "metadata": {
        "id": "eb6aa594"
      },
      "source": [
        "# Exploratory Data Analysis"
      ]
    },
    {
      "cell_type": "code",
      "execution_count": null,
      "id": "b551c429",
      "metadata": {
        "id": "b551c429",
        "outputId": "02df7e7a-f846-4d4a-bf96-fbf664a8f014"
      },
      "outputs": [
        {
          "data": {
            "text/plain": [
              "<AxesSubplot:xlabel='MIS_Status', ylabel='SBA_Appv'>"
            ]
          },
          "execution_count": 48,
          "metadata": {},
          "output_type": "execute_result"
        },
        {
          "data": {
            "image/png": "[encoded data removed]",
            "text/plain": [
              "<Figure size 640x480 with 1 Axes>"
            ]
          },
          "metadata": {},
          "output_type": "display_data"
        }
      ],
      "source": [
        "sns.barplot(data=df, x=\"MIS_Status\", y=\"SBA_Appv\")\n",
        "#People with low SBA’s guaranteed amount of approved loan are most likely Loan status charged off "
      ]
    },
    {
      "cell_type": "code",
      "execution_count": null,
      "id": "18a94261",
      "metadata": {
        "id": "18a94261",
        "outputId": "67b2e11a-4eed-4bab-e897-8d8b0f9949b9"
      },
      "outputs": [
        {
          "data": {
            "text/plain": [
              "<AxesSubplot:xlabel='MIS_Status', ylabel='GrAppv'>"
            ]
          },
          "execution_count": 49,
          "metadata": {},
          "output_type": "execute_result"
        },
        {
          "data": {
            "image/png": "[encoded data removed]",
            "text/plain": [
              "<Figure size 640x480 with 1 Axes>"
            ]
          },
          "metadata": {},
          "output_type": "display_data"
        }
      ],
      "source": [
        "sns.barplot(data=df, x=\"MIS_Status\", y=\"GrAppv\")\n",
        "#People with low Gross amount of loan approved by bank are most likely Loan status charged off "
      ]
    },
    {
      "cell_type": "code",
      "execution_count": null,
      "id": "a325ab34",
      "metadata": {
        "id": "a325ab34",
        "outputId": "5911d99b-aaa9-4ee4-ec2e-d767ed184b49"
      },
      "outputs": [
        {
          "data": {
            "text/plain": [
              "<AxesSubplot:xlabel='MIS_Status', ylabel='ChgOffPrinGr'>"
            ]
          },
          "execution_count": 50,
          "metadata": {},
          "output_type": "execute_result"
        },
        {
          "data": {
            "image/png": "[encoded data removed]",
            "text/plain": [
              "<Figure size 640x480 with 1 Axes>"
            ]
          },
          "metadata": {},
          "output_type": "display_data"
        }
      ],
      "source": [
        "sns.barplot(data=df, x=\"MIS_Status\", y=\"ChgOffPrinGr\")\n",
        "#People wih high Charged-off amount are most likely Loan status charged off"
      ]
    },
    {
      "cell_type": "code",
      "execution_count": null,
      "id": "fac0d6e9",
      "metadata": {
        "id": "fac0d6e9",
        "outputId": "a1b206bc-19ad-4eb9-9b5d-859fa467a69d"
      },
      "outputs": [
        {
          "data": {
            "text/plain": [
              "<AxesSubplot:xlabel='MIS_Status', ylabel='Term'>"
            ]
          },
          "execution_count": 51,
          "metadata": {},
          "output_type": "execute_result"
        },
        {
          "data": {
            "image/png": "[encoded data removed]",
            "text/plain": [
              "<Figure size 640x480 with 1 Axes>"
            ]
          },
          "metadata": {},
          "output_type": "display_data"
        }
      ],
      "source": [
        "sns.barplot(data=df, x=\"MIS_Status\", y=\"Term\")\n",
        "#People with high Loan term in months are most likely to Paid in full"
      ]
    },
    {
      "cell_type": "code",
      "execution_count": null,
      "id": "b9abc1fd",
      "metadata": {
        "id": "b9abc1fd",
        "outputId": "675cc52b-90cf-4781-b2dd-1844283dcb42"
      },
      "outputs": [
        {
          "data": {
            "text/plain": [
              "<AxesSubplot:xlabel='MIS_Status', ylabel='BalanceGross'>"
            ]
          },
          "execution_count": 52,
          "metadata": {},
          "output_type": "execute_result"
        },
        {
          "data": {
            "image/png": "[encoded data removed]",
            "text/plain": [
              "<Figure size 640x480 with 1 Axes>"
            ]
          },
          "metadata": {},
          "output_type": "display_data"
        }
      ],
      "source": [
        "sns.barplot(data=df, x=\"MIS_Status\", y=\"BalanceGross\")\n",
        "#People with hirh balance gross are most likely to Paid in full"
      ]
    },
    {
      "cell_type": "code",
      "execution_count": null,
      "id": "fc25151f",
      "metadata": {
        "id": "fc25151f"
      },
      "outputs": [],
      "source": [
        "def with_hue(plot, feature, Number_of_categories, hue_categories):\n",
        "    a = [p.get_height() for p in plot.patches]\n",
        "    patch = [p for p in plot.patches]\n",
        "    for i in range(Number_of_categories):\n",
        "        total = feature.value_counts().values[i]\n",
        "        for j in range(hue_categories):\n",
        "            percentage = '{:.1f}%'.format(100 * a[(j*Number_of_categories + i)]/total)\n",
        "            x = patch[(j*Number_of_categories + i)].get_x() + patch[(j*Number_of_categories + i)].get_width() / 2 - 0.15\n",
        "            y = patch[(j*Number_of_categories + i)].get_y() + patch[(j*Number_of_categories + i)].get_height() \n",
        "            ax.annotate(percentage, (x, y), size = 12)\n",
        "    plt.show()\n",
        "\n",
        "def without_hue(plot, feature):\n",
        "    total = len(feature)\n",
        "    for p in ax.patches:\n",
        "        percentage = '{:.1f}%'.format(100 * p.get_height()/total)\n",
        "        x = p.get_x() + p.get_width() / 2 - 0.05\n",
        "        y = p.get_y() + p.get_height()\n",
        "        ax.annotate(percentage, (x, y), size = 12)\n",
        "    plt.show()"
      ]
    },
    {
      "cell_type": "code",
      "execution_count": null,
      "id": "c99b356b",
      "metadata": {
        "id": "c99b356b",
        "outputId": "de5f9046-a0c4-4031-d831-9386845bdf66"
      },
      "outputs": [
        {
          "name": "stderr",
          "output_type": "stream",
          "text": [
            "D:\\anaconda3\\lib\\site-packages\\seaborn\\_decorators.py:36: FutureWarning: Pass the following variable as a keyword arg: x. From version 0.12, the only valid positional argument will be `data`, and passing other arguments without an explicit keyword will result in an error or misinterpretation.\n",
            "  warnings.warn(\n"
          ]
        },
        {
          "data": {
            "image/png": "[encoded data removed]",
            "text/plain": [
              "<Figure size 700x500 with 1 Axes>"
            ]
          },
          "metadata": {},
          "output_type": "display_data"
        }
      ],
      "source": [
        "plt.figure(figsize=(7,5))\n",
        "ax = sns.countplot('MIS_Status', hue='UrbanRural', data = df)\n",
        "plt.xticks(size = 12)\n",
        "plt.xlabel('MIS_Status', size = 12)\n",
        "plt.yticks(size = 12)\n",
        "plt.xlabel('UrbanRural', size = 12)\n",
        "with_hue(ax, df.MIS_Status,2,2)\n",
        "#Urban people are most likely Loan status charged off "
      ]
    },
    {
      "cell_type": "code",
      "execution_count": null,
      "id": "f978c7ad",
      "metadata": {
        "id": "f978c7ad",
        "outputId": "0f84167d-8b2b-4586-b1b7-e968351977be"
      },
      "outputs": [
        {
          "data": {
            "text/plain": [
              "(899164, 13)"
            ]
          },
          "execution_count": 56,
          "metadata": {},
          "output_type": "execute_result"
        }
      ],
      "source": [
        "df.drop(columns = 'ApprovalFY', inplace = True)\n",
        "df.shape"
      ]
    },
    {
      "cell_type": "code",
      "execution_count": null,
      "id": "e8c82e73",
      "metadata": {
        "id": "e8c82e73",
        "outputId": "2e2779b0-3b51-49c9-b682-8dfadbbe280c"
      },
      "outputs": [
        {
          "data": {
            "text/plain": [
              "<AxesSubplot:xlabel='MIS_Status', ylabel='CreateJob'>"
            ]
          },
          "execution_count": 57,
          "metadata": {},
          "output_type": "execute_result"
        },
        {
          "data": {
            "image/png": "[encoded data removed]",
            "text/plain": [
              "<Figure size 640x480 with 1 Axes>"
            ]
          },
          "metadata": {},
          "output_type": "display_data"
        }
      ],
      "source": [
        "sns.barplot(data=df, x=\"MIS_Status\", y=\"CreateJob\")\n",
        "#People with low amount of created job are most likely to Paid in full"
      ]
    },
    {
      "cell_type": "code",
      "execution_count": null,
      "id": "832f8f78",
      "metadata": {
        "id": "832f8f78",
        "outputId": "ef9fba9c-be8d-451c-accf-3569579abef3"
      },
      "outputs": [
        {
          "data": {
            "text/plain": [
              "<AxesSubplot:xlabel='MIS_Status', ylabel='RetainedJob'>"
            ]
          },
          "execution_count": 58,
          "metadata": {},
          "output_type": "execute_result"
        },
        {
          "data": {
            "image/png": "[encoded data removed]",
            "text/plain": [
              "<Figure size 640x480 with 1 Axes>"
            ]
          },
          "metadata": {},
          "output_type": "display_data"
        }
      ],
      "source": [
        "sns.barplot(data=df, x=\"MIS_Status\", y=\"RetainedJob\")\n",
        "#People with low amount of retained job are most likely to Paid in full"
      ]
    },
    {
      "cell_type": "markdown",
      "id": "e37f38d8",
      "metadata": {
        "id": "e37f38d8"
      },
      "source": [
        "# Data Preprocessing Part 2"
      ]
    },
    {
      "cell_type": "code",
      "execution_count": null,
      "id": "72278950",
      "metadata": {
        "id": "72278950",
        "outputId": "3d4c855e-1078-4571-fef0-8dc84f2f0e93"
      },
      "outputs": [
        {
          "data": {
            "text/html": [
              "<div>\n",
              "<style scoped>\n",
              "    .dataframe tbody tr th:only-of-type {\n",
              "        vertical-align: middle;\n",
              "    }\n",
              "\n",
              "    .dataframe tbody tr th {\n",
              "        vertical-align: top;\n",
              "    }\n",
              "\n",
              "    .dataframe thead th {\n",
              "        text-align: right;\n",
              "    }\n",
              "</style>\n",
              "<table border=\"1\" class=\"dataframe\">\n",
              "  <thead>\n",
              "    <tr style=\"text-align: right;\">\n",
              "      <th></th>\n",
              "      <th>Term</th>\n",
              "      <th>NoEmp</th>\n",
              "      <th>NewExist</th>\n",
              "      <th>CreateJob</th>\n",
              "      <th>RetainedJob</th>\n",
              "      <th>FranchiseCode</th>\n",
              "      <th>UrbanRural</th>\n",
              "      <th>DisbursementGross</th>\n",
              "      <th>BalanceGross</th>\n",
              "      <th>MIS_Status</th>\n",
              "      <th>ChgOffPrinGr</th>\n",
              "      <th>GrAppv</th>\n",
              "      <th>SBA_Appv</th>\n",
              "    </tr>\n",
              "  </thead>\n",
              "  <tbody>\n",
              "    <tr>\n",
              "      <th>0</th>\n",
              "      <td>84</td>\n",
              "      <td>4</td>\n",
              "      <td>2.0</td>\n",
              "      <td>0</td>\n",
              "      <td>0</td>\n",
              "      <td>1</td>\n",
              "      <td>0</td>\n",
              "      <td>6000000</td>\n",
              "      <td>0</td>\n",
              "      <td>P I F</td>\n",
              "      <td>0</td>\n",
              "      <td>6000000</td>\n",
              "      <td>4800000</td>\n",
              "    </tr>\n",
              "    <tr>\n",
              "      <th>1</th>\n",
              "      <td>60</td>\n",
              "      <td>2</td>\n",
              "      <td>2.0</td>\n",
              "      <td>0</td>\n",
              "      <td>0</td>\n",
              "      <td>1</td>\n",
              "      <td>0</td>\n",
              "      <td>4000000</td>\n",
              "      <td>0</td>\n",
              "      <td>P I F</td>\n",
              "      <td>0</td>\n",
              "      <td>4000000</td>\n",
              "      <td>3200000</td>\n",
              "    </tr>\n",
              "    <tr>\n",
              "      <th>2</th>\n",
              "      <td>180</td>\n",
              "      <td>7</td>\n",
              "      <td>1.0</td>\n",
              "      <td>0</td>\n",
              "      <td>0</td>\n",
              "      <td>1</td>\n",
              "      <td>0</td>\n",
              "      <td>28700000</td>\n",
              "      <td>0</td>\n",
              "      <td>P I F</td>\n",
              "      <td>0</td>\n",
              "      <td>28700000</td>\n",
              "      <td>21525000</td>\n",
              "    </tr>\n",
              "    <tr>\n",
              "      <th>3</th>\n",
              "      <td>60</td>\n",
              "      <td>2</td>\n",
              "      <td>1.0</td>\n",
              "      <td>0</td>\n",
              "      <td>0</td>\n",
              "      <td>1</td>\n",
              "      <td>0</td>\n",
              "      <td>3500000</td>\n",
              "      <td>0</td>\n",
              "      <td>P I F</td>\n",
              "      <td>0</td>\n",
              "      <td>3500000</td>\n",
              "      <td>2800000</td>\n",
              "    </tr>\n",
              "    <tr>\n",
              "      <th>4</th>\n",
              "      <td>240</td>\n",
              "      <td>14</td>\n",
              "      <td>1.0</td>\n",
              "      <td>7</td>\n",
              "      <td>7</td>\n",
              "      <td>1</td>\n",
              "      <td>0</td>\n",
              "      <td>22900000</td>\n",
              "      <td>0</td>\n",
              "      <td>P I F</td>\n",
              "      <td>0</td>\n",
              "      <td>22900000</td>\n",
              "      <td>22900000</td>\n",
              "    </tr>\n",
              "  </tbody>\n",
              "</table>\n",
              "</div>"
            ],
            "text/plain": [
              "   Term  NoEmp  NewExist  CreateJob  RetainedJob  FranchiseCode  UrbanRural  \\\n",
              "0    84      4       2.0          0            0              1           0   \n",
              "1    60      2       2.0          0            0              1           0   \n",
              "2   180      7       1.0          0            0              1           0   \n",
              "3    60      2       1.0          0            0              1           0   \n",
              "4   240     14       1.0          7            7              1           0   \n",
              "\n",
              "   DisbursementGross  BalanceGross MIS_Status  ChgOffPrinGr    GrAppv  \\\n",
              "0            6000000             0      P I F             0   6000000   \n",
              "1            4000000             0      P I F             0   4000000   \n",
              "2           28700000             0      P I F             0  28700000   \n",
              "3            3500000             0      P I F             0   3500000   \n",
              "4           22900000             0      P I F             0  22900000   \n",
              "\n",
              "   SBA_Appv  \n",
              "0   4800000  \n",
              "1   3200000  \n",
              "2  21525000  \n",
              "3   2800000  \n",
              "4  22900000  "
            ]
          },
          "execution_count": 59,
          "metadata": {},
          "output_type": "execute_result"
        }
      ],
      "source": [
        "df.head()"
      ]
    },
    {
      "cell_type": "code",
      "execution_count": null,
      "id": "126bd53c",
      "metadata": {
        "id": "126bd53c",
        "outputId": "554b700f-e5ab-4a30-df8a-77fe8b16979b"
      },
      "outputs": [
        {
          "data": {
            "text/plain": [
              "Term                   int64\n",
              "NoEmp                  int64\n",
              "NewExist             float64\n",
              "CreateJob              int64\n",
              "RetainedJob            int64\n",
              "FranchiseCode          int64\n",
              "UrbanRural             int64\n",
              "DisbursementGross      int64\n",
              "BalanceGross           int64\n",
              "MIS_Status            object\n",
              "ChgOffPrinGr           int64\n",
              "GrAppv                 int64\n",
              "SBA_Appv               int64\n",
              "dtype: object"
            ]
          },
          "execution_count": 60,
          "metadata": {},
          "output_type": "execute_result"
        }
      ],
      "source": [
        "df.dtypes"
      ]
    },
    {
      "cell_type": "code",
      "execution_count": null,
      "id": "a3d3a73f",
      "metadata": {
        "id": "a3d3a73f",
        "outputId": "366095ec-4e1a-41cb-fb87-30be83c0d5ed"
      },
      "outputs": [
        {
          "data": {
            "text/plain": [
              "array(['P I F', 'CHGOFF', nan], dtype=object)"
            ]
          },
          "execution_count": 61,
          "metadata": {},
          "output_type": "execute_result"
        }
      ],
      "source": [
        "df['MIS_Status'].unique()"
      ]
    },
    {
      "cell_type": "code",
      "execution_count": null,
      "id": "d47cae15",
      "metadata": {
        "id": "d47cae15",
        "outputId": "63881845-c7d9-48e5-82cb-64b4c2ccc652"
      },
      "outputs": [
        {
          "data": {
            "text/plain": [
              "(899164, 13)"
            ]
          },
          "execution_count": 63,
          "metadata": {},
          "output_type": "execute_result"
        }
      ],
      "source": [
        "df['MIS_Status'].dropna()\n",
        "df.shape"
      ]
    },
    {
      "cell_type": "code",
      "execution_count": null,
      "id": "82976e01",
      "metadata": {
        "id": "82976e01",
        "outputId": "c80189bc-50a9-4fdf-cf19-441cf635b6ce"
      },
      "outputs": [
        {
          "data": {
            "text/plain": [
              "array([1, 0, 2])"
            ]
          },
          "execution_count": 64,
          "metadata": {},
          "output_type": "execute_result"
        }
      ],
      "source": [
        "from sklearn import preprocessing\n",
        "label_encoder = preprocessing.LabelEncoder()\n",
        "df['MIS_Status']= label_encoder.fit_transform(df['MIS_Status'])\n",
        "df['MIS_Status'].unique()"
      ]
    },
    {
      "cell_type": "code",
      "execution_count": null,
      "id": "0a8aadc4",
      "metadata": {
        "id": "0a8aadc4",
        "outputId": "39fe0e24-6037-43e2-d0b4-fecb03de6daa"
      },
      "outputs": [
        {
          "data": {
            "text/plain": [
              "1    739609\n",
              "0    157558\n",
              "2      1997\n",
              "Name: MIS_Status, dtype: int64"
            ]
          },
          "execution_count": 65,
          "metadata": {},
          "output_type": "execute_result"
        }
      ],
      "source": [
        "df['MIS_Status'].value_counts()"
      ]
    },
    {
      "cell_type": "code",
      "execution_count": null,
      "id": "299fe44a",
      "metadata": {
        "id": "299fe44a",
        "outputId": "35e79066-1595-445d-d662-3a8164cd9371"
      },
      "outputs": [
        {
          "data": {
            "text/plain": [
              "(897167, 13)"
            ]
          },
          "execution_count": 69,
          "metadata": {},
          "output_type": "execute_result"
        }
      ],
      "source": [
        "df = df[df.MIS_Status != 2]\n",
        "df.shape"
      ]
    },
    {
      "cell_type": "code",
      "execution_count": null,
      "id": "89a697c7",
      "metadata": {
        "id": "89a697c7",
        "outputId": "d134d4af-b488-4eb8-ba81-c3c08e64fce1"
      },
      "outputs": [
        {
          "data": {
            "text/plain": [
              "array([1, 0])"
            ]
          },
          "execution_count": 70,
          "metadata": {},
          "output_type": "execute_result"
        }
      ],
      "source": [
        "df['MIS_Status'].unique()"
      ]
    },
    {
      "cell_type": "code",
      "execution_count": null,
      "id": "37d9a917",
      "metadata": {
        "id": "37d9a917",
        "outputId": "be48bf1b-d406-49ee-e459-cf2025a3dfc6"
      },
      "outputs": [
        {
          "data": {
            "text/plain": [
              "NewExist    0.014936\n",
              "dtype: float64"
            ]
          },
          "execution_count": 71,
          "metadata": {},
          "output_type": "execute_result"
        }
      ],
      "source": [
        "check_missing = df.isnull().sum() * 100 / df.shape[0]\n",
        "check_missing[check_missing > 0].sort_values(ascending=False)"
      ]
    },
    {
      "cell_type": "code",
      "execution_count": null,
      "id": "7a219c29",
      "metadata": {
        "id": "7a219c29"
      },
      "outputs": [],
      "source": [
        "df['NewExist'].fillna(df['NewExist'].median(), inplace=True)"
      ]
    },
    {
      "cell_type": "markdown",
      "id": "6c9f9814",
      "metadata": {
        "id": "6c9f9814"
      },
      "source": [
        "# Balance Class Value (MIS Status)"
      ]
    },
    {
      "cell_type": "code",
      "execution_count": null,
      "id": "14693263",
      "metadata": {
        "id": "14693263",
        "outputId": "50663b7e-b792-4260-c306-cef4d884442a"
      },
      "outputs": [
        {
          "name": "stderr",
          "output_type": "stream",
          "text": [
            "D:\\anaconda3\\lib\\site-packages\\seaborn\\_decorators.py:36: FutureWarning: Pass the following variable as a keyword arg: x. From version 0.12, the only valid positional argument will be `data`, and passing other arguments without an explicit keyword will result in an error or misinterpretation.\n",
            "  warnings.warn(\n"
          ]
        },
        {
          "data": {
            "text/plain": [
              "1    739609\n",
              "0    157558\n",
              "Name: MIS_Status, dtype: int64"
            ]
          },
          "execution_count": 73,
          "metadata": {},
          "output_type": "execute_result"
        },
        {
          "data": {
            "image/png": "[encoded data removed]",
            "text/plain": [
              "<Figure size 640x480 with 1 Axes>"
            ]
          },
          "metadata": {},
          "output_type": "display_data"
        }
      ],
      "source": [
        "#Counting 1 and 0 Value in Response column\n",
        "sns.countplot(df['MIS_Status'])\n",
        "df['MIS_Status'].value_counts()"
      ]
    },
    {
      "cell_type": "code",
      "execution_count": null,
      "id": "e7e796e3",
      "metadata": {
        "id": "e7e796e3"
      },
      "outputs": [],
      "source": [
        "from sklearn.utils import resample\n",
        "#create two different dataframe of majority and minority class \n",
        "df_majority = df[(df['MIS_Status']==1)] \n",
        "df_minority = df[(df['MIS_Status']==0)] \n",
        "# upsample minority class\n",
        "df_minority_upsampled = resample(df_minority, \n",
        "                                 replace=True,    # sample with replacement\n",
        "                                 n_samples= 739609, # to match majority class\n",
        "                                 random_state=0)  # reproducible results\n",
        "# Combine majority class with upsampled minority class\n",
        "df_upsampled = pd.concat([df_minority_upsampled, df_majority])"
      ]
    },
    {
      "cell_type": "code",
      "execution_count": null,
      "id": "1f4b5040",
      "metadata": {
        "id": "1f4b5040",
        "outputId": "1856ffc8-1a7f-4b86-f23f-21a4b039b975"
      },
      "outputs": [
        {
          "name": "stderr",
          "output_type": "stream",
          "text": [
            "D:\\anaconda3\\lib\\site-packages\\seaborn\\_decorators.py:36: FutureWarning: Pass the following variable as a keyword arg: x. From version 0.12, the only valid positional argument will be `data`, and passing other arguments without an explicit keyword will result in an error or misinterpretation.\n",
            "  warnings.warn(\n"
          ]
        },
        {
          "data": {
            "text/plain": [
              "0    739609\n",
              "1    739609\n",
              "Name: MIS_Status, dtype: int64"
            ]
          },
          "execution_count": 77,
          "metadata": {},
          "output_type": "execute_result"
        },
        {
          "data": {
            "image/png": "[encoded data removed]",
            "text/plain": [
              "<Figure size 640x480 with 1 Axes>"
            ]
          },
          "metadata": {},
          "output_type": "display_data"
        }
      ],
      "source": [
        "#Counting 1 and 0 Value in Response column\n",
        "sns.countplot(df_upsampled['MIS_Status'])\n",
        "df_upsampled['MIS_Status'].value_counts()"
      ]
    },
    {
      "cell_type": "markdown",
      "id": "739d9a3d",
      "metadata": {
        "id": "739d9a3d"
      },
      "source": [
        "# Clean the outlier using Z-Score Method"
      ]
    },
    {
      "cell_type": "code",
      "execution_count": null,
      "id": "ba803fac",
      "metadata": {
        "id": "ba803fac",
        "outputId": "6d6911aa-cbf6-449b-861d-829dc0becb24"
      },
      "outputs": [
        {
          "data": {
            "text/plain": [
              "(1367022, 13)"
            ]
          },
          "execution_count": 78,
          "metadata": {},
          "output_type": "execute_result"
        }
      ],
      "source": [
        "#Remove Outlier using Z-Score Method\n",
        "import scipy.stats as stats\n",
        "z = np.abs(stats.zscore(df_upsampled))\n",
        "data_clean = df_upsampled[(z<3).all(axis = 1)] \n",
        "data_clean.shape"
      ]
    },
    {
      "cell_type": "markdown",
      "id": "5497848a",
      "metadata": {
        "id": "5497848a"
      },
      "source": [
        "# Heatmap Data Correlation"
      ]
    },
    {
      "cell_type": "code",
      "execution_count": null,
      "id": "58f37c69",
      "metadata": {
        "id": "58f37c69",
        "outputId": "e5d73677-c3f0-422f-bb51-c3331f3476a6"
      },
      "outputs": [
        {
          "data": {
            "text/plain": [
              "<AxesSubplot:>"
            ]
          },
          "execution_count": 79,
          "metadata": {},
          "output_type": "execute_result"
        },
        {
          "data": {
            "image/png": "[encoded data removed]",
            "text/plain": [
              "<Figure size 640x480 with 2 Axes>"
            ]
          },
          "metadata": {},
          "output_type": "display_data"
        }
      ],
      "source": [
        "sns.heatmap(data_clean.corr(), fmt='.2g')"
      ]
    },
    {
      "cell_type": "markdown",
      "id": "60e797f0",
      "metadata": {
        "id": "60e797f0"
      },
      "source": [
        "# Machine Learning Model Building"
      ]
    },
    {
      "cell_type": "code",
      "execution_count": null,
      "id": "fdb5ae7a",
      "metadata": {
        "id": "fdb5ae7a"
      },
      "outputs": [],
      "source": [
        "X = data_clean.drop('MIS_Status', axis=1)\n",
        "y = data_clean['MIS_Status']"
      ]
    },
    {
      "cell_type": "code",
      "execution_count": null,
      "id": "4392053c",
      "metadata": {
        "id": "4392053c"
      },
      "outputs": [],
      "source": [
        "#test size 20% and train size 80%\n",
        "from sklearn.model_selection import train_test_split\n",
        "from sklearn.metrics import accuracy_score\n",
        "X_train, X_test, y_train, y_test = train_test_split(X,y, test_size=0.2,random_state=0)"
      ]
    },
    {
      "cell_type": "markdown",
      "id": "676cb728",
      "metadata": {
        "id": "676cb728"
      },
      "source": [
        "# Decision Tree Classifier"
      ]
    },
    {
      "cell_type": "code",
      "execution_count": null,
      "id": "ea42730d",
      "metadata": {
        "id": "ea42730d",
        "outputId": "bde277c6-af59-471e-e1f8-d497658c3aa8"
      },
      "outputs": [
        {
          "data": {
            "text/plain": [
              "DecisionTreeClassifier(random_state=0)"
            ]
          },
          "execution_count": 82,
          "metadata": {},
          "output_type": "execute_result"
        }
      ],
      "source": [
        "from sklearn.tree import DecisionTreeClassifier\n",
        "dtree = DecisionTreeClassifier(random_state=0)\n",
        "dtree.fit(X_train, y_train)"
      ]
    },
    {
      "cell_type": "code",
      "execution_count": null,
      "id": "d5420d29",
      "metadata": {
        "id": "d5420d29",
        "outputId": "2f4c8f65-b495-479e-be1c-a2ea37d3b597"
      },
      "outputs": [
        {
          "name": "stdout",
          "output_type": "stream",
          "text": [
            "Accuracy Score : 99.57 %\n"
          ]
        }
      ],
      "source": [
        "y_pred = dtree.predict(X_test)\n",
        "print(\"Accuracy Score :\", round(accuracy_score(y_test, y_pred)*100 ,2), \"%\")"
      ]
    },
    {
      "cell_type": "code",
      "execution_count": null,
      "id": "0121ffe0",
      "metadata": {
        "id": "0121ffe0",
        "outputId": "c3df7d25-0802-46f8-e850-466bd4c7a579"
      },
      "outputs": [
        {
          "name": "stdout",
          "output_type": "stream",
          "text": [
            "F-1 Score :  0.9956635249347315\n",
            "Precision Score :  0.998971475082319\n",
            "Recall Score :  0.9923774100835765\n"
          ]
        }
      ],
      "source": [
        "from sklearn.metrics import accuracy_score, f1_score, precision_score, recall_score\n",
        "print('F-1 Score : ',(f1_score(y_test, y_pred)))\n",
        "print('Precision Score : ',(precision_score(y_test, y_pred)))\n",
        "print('Recall Score : ',(recall_score(y_test, y_pred)))"
      ]
    },
    {
      "cell_type": "markdown",
      "id": "0c0adb1d",
      "metadata": {
        "id": "0c0adb1d"
      },
      "source": [
        "# Random Forest  Classifier"
      ]
    },
    {
      "cell_type": "code",
      "execution_count": null,
      "id": "c8934258",
      "metadata": {
        "id": "c8934258",
        "outputId": "4ca006dd-0f50-4160-8fde-361c15c7df66"
      },
      "outputs": [
        {
          "data": {
            "text/plain": [
              "RandomForestClassifier(random_state=0)"
            ]
          },
          "execution_count": 85,
          "metadata": {},
          "output_type": "execute_result"
        }
      ],
      "source": [
        "from sklearn.ensemble import RandomForestClassifier\n",
        "rfc = RandomForestClassifier(random_state=0)\n",
        "rfc.fit(X_train, y_train)"
      ]
    },
    {
      "cell_type": "code",
      "execution_count": null,
      "id": "99e551ef",
      "metadata": {
        "id": "99e551ef",
        "outputId": "aeb5ae0d-5e9e-4d4b-901b-598a23bd87b5"
      },
      "outputs": [
        {
          "name": "stdout",
          "output_type": "stream",
          "text": [
            "Accuracy Score : 99.62 %\n"
          ]
        }
      ],
      "source": [
        "y_pred = rfc.predict(X_test)\n",
        "print(\"Accuracy Score :\", round(accuracy_score(y_test, y_pred)*100 ,2), \"%\")"
      ]
    },
    {
      "cell_type": "code",
      "execution_count": null,
      "id": "35076b7e",
      "metadata": {
        "id": "35076b7e",
        "outputId": "d3f91099-ef0e-46a0-a684-e2cc47eae03f"
      },
      "outputs": [
        {
          "name": "stdout",
          "output_type": "stream",
          "text": [
            "F-1 Score :  0.9961934831841956\n",
            "Precision Score :  0.9997778945887719\n",
            "Recall Score :  0.9926346816815271\n"
          ]
        }
      ],
      "source": [
        "from sklearn.metrics import accuracy_score, f1_score, precision_score, recall_score\n",
        "print('F-1 Score : ',(f1_score(y_test, y_pred)))\n",
        "print('Precision Score : ',(precision_score(y_test, y_pred)))\n",
        "print('Recall Score : ',(recall_score(y_test, y_pred)))"
      ]
    },
    {
      "cell_type": "markdown",
      "id": "9cfa2922",
      "metadata": {
        "id": "9cfa2922"
      },
      "source": [
        "# Visualize Best Algorithm (Random Forest Classifier)"
      ]
    },
    {
      "cell_type": "code",
      "execution_count": null,
      "id": "fc4399fb",
      "metadata": {
        "id": "fc4399fb",
        "outputId": "a9bccc74-c93e-40c5-a232-ba47d022b384"
      },
      "outputs": [
        {
          "data": {
            "text/html": [
              "<div>\n",
              "<style scoped>\n",
              "    .dataframe tbody tr th:only-of-type {\n",
              "        vertical-align: middle;\n",
              "    }\n",
              "\n",
              "    .dataframe tbody tr th {\n",
              "        vertical-align: top;\n",
              "    }\n",
              "\n",
              "    .dataframe thead th {\n",
              "        text-align: right;\n",
              "    }\n",
              "</style>\n",
              "<table border=\"1\" class=\"dataframe\">\n",
              "  <thead>\n",
              "    <tr style=\"text-align: right;\">\n",
              "      <th></th>\n",
              "      <th>Feature Name</th>\n",
              "      <th>Importance</th>\n",
              "    </tr>\n",
              "  </thead>\n",
              "  <tbody>\n",
              "    <tr>\n",
              "      <th>9</th>\n",
              "      <td>ChgOffPrinGr</td>\n",
              "      <td>7.226684e-01</td>\n",
              "    </tr>\n",
              "    <tr>\n",
              "      <th>0</th>\n",
              "      <td>Term</td>\n",
              "      <td>1.873627e-01</td>\n",
              "    </tr>\n",
              "    <tr>\n",
              "      <th>5</th>\n",
              "      <td>FranchiseCode</td>\n",
              "      <td>2.341338e-02</td>\n",
              "    </tr>\n",
              "    <tr>\n",
              "      <th>6</th>\n",
              "      <td>UrbanRural</td>\n",
              "      <td>1.783382e-02</td>\n",
              "    </tr>\n",
              "    <tr>\n",
              "      <th>11</th>\n",
              "      <td>SBA_Appv</td>\n",
              "      <td>1.694594e-02</td>\n",
              "    </tr>\n",
              "    <tr>\n",
              "      <th>4</th>\n",
              "      <td>RetainedJob</td>\n",
              "      <td>1.158896e-02</td>\n",
              "    </tr>\n",
              "    <tr>\n",
              "      <th>10</th>\n",
              "      <td>GrAppv</td>\n",
              "      <td>7.611267e-03</td>\n",
              "    </tr>\n",
              "    <tr>\n",
              "      <th>7</th>\n",
              "      <td>DisbursementGross</td>\n",
              "      <td>5.860008e-03</td>\n",
              "    </tr>\n",
              "    <tr>\n",
              "      <th>1</th>\n",
              "      <td>NoEmp</td>\n",
              "      <td>3.708249e-03</td>\n",
              "    </tr>\n",
              "    <tr>\n",
              "      <th>3</th>\n",
              "      <td>CreateJob</td>\n",
              "      <td>1.710933e-03</td>\n",
              "    </tr>\n",
              "    <tr>\n",
              "      <th>2</th>\n",
              "      <td>NewExist</td>\n",
              "      <td>1.296381e-03</td>\n",
              "    </tr>\n",
              "    <tr>\n",
              "      <th>8</th>\n",
              "      <td>BalanceGross</td>\n",
              "      <td>1.239145e-08</td>\n",
              "    </tr>\n",
              "  </tbody>\n",
              "</table>\n",
              "</div>"
            ],
            "text/plain": [
              "         Feature Name    Importance\n",
              "9        ChgOffPrinGr  7.226684e-01\n",
              "0                Term  1.873627e-01\n",
              "5       FranchiseCode  2.341338e-02\n",
              "6          UrbanRural  1.783382e-02\n",
              "11           SBA_Appv  1.694594e-02\n",
              "4         RetainedJob  1.158896e-02\n",
              "10             GrAppv  7.611267e-03\n",
              "7   DisbursementGross  5.860008e-03\n",
              "1               NoEmp  3.708249e-03\n",
              "3           CreateJob  1.710933e-03\n",
              "2            NewExist  1.296381e-03\n",
              "8        BalanceGross  1.239145e-08"
            ]
          },
          "execution_count": 88,
          "metadata": {},
          "output_type": "execute_result"
        }
      ],
      "source": [
        "#Feature Importance\n",
        "imp_df = pd.DataFrame({\n",
        "    \"Feature Name\": X_train.columns,\n",
        "    \"Importance\": rfc.feature_importances_\n",
        "})\n",
        "fi = imp_df.sort_values(by=\"Importance\", ascending=False)\n",
        "fi"
      ]
    },
    {
      "cell_type": "code",
      "execution_count": null,
      "id": "7e1ba56b",
      "metadata": {
        "id": "7e1ba56b",
        "outputId": "ab3ceb90-4cdc-4b7b-b9a9-d3836c0274df"
      },
      "outputs": [
        {
          "data": {
            "image/png": "[encoded data removed]",
            "text/plain": [
              "<Figure size 1000x800 with 1 Axes>"
            ]
          },
          "metadata": {},
          "output_type": "display_data"
        }
      ],
      "source": [
        "fi2 = fi.head(10)\n",
        "plt.figure(figsize=(10,8))\n",
        "sns.barplot(data=fi2, x='Importance', y='Feature Name')\n",
        "plt.title('Top 10 Feature Importance Each Attributes (Random Forest)', fontsize=18)\n",
        "plt.xlabel ('Importance', fontsize=16)\n",
        "plt.ylabel ('Feature Name', fontsize=16)\n",
        "plt.show()"
      ]
    }
  ],
  "metadata": {
    "kernelspec": {
      "display_name": "Python 3 (ipykernel)",
      "language": "python",
      "name": "python3"
    },
    "language_info": {
      "codemirror_mode": {
        "name": "ipython",
        "version": 3
      },
      "file_extension": ".py",
      "mimetype": "text/x-python",
      "name": "python",
      "nbconvert_exporter": "python",
      "pygments_lexer": "ipython3",
      "version": "3.9.13"
    },
    "colab": {
      "provenance": [],
      "include_colab_link": true
    }
  },
  "nbformat": 4,
  "nbformat_minor": 5
}