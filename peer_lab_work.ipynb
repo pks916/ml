{
 "cells": [
  {
   "cell_type": "markdown",
   "id": "d3e1fc57",
   "metadata": {},
   "source": [
    "# Peer Lab Work"
   ]
  },
  {
   "cell_type": "markdown",
   "id": "6f4078b2",
   "metadata": {},
   "source": [
    "This is my submission for the peer graded lab work for the week 7th final assignment"
   ]
  },
  {
   "cell_type": "markdown",
   "id": "149c0f94",
   "metadata": {},
   "source": [
    "## Some Languages in Data Science are,\n",
    "#### 1. R\n",
    "#### 2. Python"
   ]
  },
  {
   "cell_type": "markdown",
   "id": "3367fe7f",
   "metadata": {},
   "source": [
    "## Some of the libraries used in data science are :\n",
    "#### 1. Pandas\n",
    "#### 2. Numpy\n",
    "#### 3. Seaborn\n",
    "#### 4. Scikit-learn"
   ]
  },
  {
   "cell_type": "markdown",
   "id": "3e5a0f81",
   "metadata": {},
   "source": [
    "##  Some of the tools used in Data Science are :\n",
    "#### 1. Jupyter Notebooks\n",
    "#### 2. Rstudio"
   ]
  },
  {
   "cell_type": "markdown",
   "id": "27fc2f89",
   "metadata": {},
   "source": [
    "##### 1 + 1 = 2\n",
    "##### (2*3) + 4 = 10"
   ]
  },
  {
   "cell_type": "code",
   "execution_count": 2,
   "id": "a58b96ad",
   "metadata": {},
   "outputs": [
    {
     "name": "stdout",
     "output_type": "stream",
     "text": [
      "2\n",
      "10\n"
     ]
    }
   ],
   "source": [
    "print(1 + 1)\n",
    "print( (2*3)+4 )"
   ]
  },
  {
   "cell_type": "code",
   "execution_count": 3,
   "id": "feacf21f",
   "metadata": {},
   "outputs": [
    {
     "name": "stdout",
     "output_type": "stream",
     "text": [
      "0.75\n"
     ]
    }
   ],
   "source": [
    "minutes = 45\n",
    "hours = minutes/60\n",
    "print(hours)"
   ]
  },
  {
   "cell_type": "markdown",
   "id": "0c0b5a54",
   "metadata": {},
   "source": [
    "## List below are the objectives :\n",
    "\n",
    "### 1. Our objective is to learn data science and use it to solve business problems\n",
    "### 2. To learn data science we need to learn about the tools used in data science firstly.\n"
   ]
  },
  {
   "cell_type": "markdown",
   "id": "94660e49",
   "metadata": {},
   "source": [
    "# Author of this notebook is Priyanshu Kumar Singh"
   ]
  },
  {
   "cell_type": "code",
   "execution_count": null,
   "id": "5ade7a36",
   "metadata": {},
   "outputs": [],
   "source": []
  }
 ],
 "metadata": {
  "kernelspec": {
   "display_name": "Python 3 (ipykernel)",
   "language": "python",
   "name": "python3"
  },
  "language_info": {
   "codemirror_mode": {
    "name": "ipython",
    "version": 3
   },
   "file_extension": ".py",
   "mimetype": "text/x-python",
   "name": "python",
   "nbconvert_exporter": "python",
   "pygments_lexer": "ipython3",
   "version": "3.11.3"
  }
 },
 "nbformat": 4,
 "nbformat_minor": 5
}
